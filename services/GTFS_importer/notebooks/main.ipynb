{
 "cells": [
  {
   "cell_type": "code",
   "execution_count": 1,
   "id": "ea61e564",
   "metadata": {},
   "outputs": [],
   "source": [
    "import sys\n",
    "import json\n",
    "\n",
    "# files = ['https://storage.googleapis.com/storage/v1/b/mdb-latest/o/ca-british-columbia-translink-vancouver-gtfs-1222.zip?alt=media']\n",
    "files = ['stl.zip']\n",
    "params = {\n",
    "\t'exec_id': 0,\n",
    "\t'files': files,\n",
    "\t'start_time': '6:00:00',\n",
    "\t'end_time': '9:00:00',\n",
    "\t'day': 'tuesday',\n",
    "\t'dates': [],\n",
    "\t'period': 'am',\n",
    "}\n",
    "# params = {\n",
    "# \t'exec_id': 0,\n",
    "# \t'files': files,\n",
    "# \t'start_time': '12:00:00',\n",
    "# \t'end_time': '15:00:00',\n",
    "# \t'day': 'tuesday',\n",
    "# \t'dates': [],\n",
    "# \t'period': 'pm',\n",
    "# }\n",
    "\n",
    "default = {'scenario': 'test', 'training_folder': '../..', 'params': params}  # Default execution parameters\n",
    "manual, argv = (True, default) if 'ipykernel' in sys.argv[0] else (False, dict(default, **json.loads(sys.argv[1])))"
   ]
  },
  {
   "cell_type": "code",
   "execution_count": 2,
   "id": "5ffb7908",
   "metadata": {},
   "outputs": [],
   "source": [
    "import geopandas as gpd\n",
    "import pandas as pd\n",
    "import gtfs_kit as gtk\n",
    "import numpy as np\n",
    "from quetzal.io.gtfs_reader import importer\n",
    "from quetzal.model import stepmodel\n",
    "import json\n",
    "import os"
   ]
  },
  {
   "cell_type": "code",
   "execution_count": 3,
   "id": "36b66424",
   "metadata": {},
   "outputs": [],
   "source": [
    "# Add path to quetzal\n",
    "sys.path.insert(0, '../../../../quetzal/')\n",
    "import os\n",
    "import numba as nb\n",
    "\n",
    "on_lambda = bool(os.environ.get('AWS_EXECUTION_ENV'))\n",
    "num_cores = nb.config.NUMBA_NUM_THREADS"
   ]
  },
  {
   "cell_type": "code",
   "execution_count": 4,
   "id": "3b016852",
   "metadata": {},
   "outputs": [],
   "source": [
    "scenario = argv['scenario']\n",
    "training_folder = argv['training_folder']\n",
    "# if local. add the path to the scenario scenarios/<scenario>/\n",
    "if on_lambda:\n",
    "\tinput_folder = os.path.join(training_folder, 'inputs/')\n",
    "\toutput_folder = os.path.join(training_folder, 'outputs/')\n",
    "else:\n",
    "\tinput_folder = f'../scenarios/{scenario}/inputs/'\n",
    "\toutput_folder = f'../scenarios/{scenario}/outputs/'\n",
    "\tnum_cores = 4\n",
    "\n",
    "if not os.path.exists(output_folder):\n",
    "\tos.makedirs(output_folder)\n"
   ]
  },
  {
   "cell_type": "code",
   "execution_count": 5,
   "id": "a4d5f4eb",
   "metadata": {},
   "outputs": [
    {
     "data": {
      "text/plain": [
       "{'exec_id': 0,\n",
       " 'files': ['stl.zip'],\n",
       " 'start_time': '6:00:00',\n",
       " 'end_time': '9:00:00',\n",
       " 'day': 'tuesday',\n",
       " 'dates': [],\n",
       " 'period': 'am'}"
      ]
     },
     "execution_count": 5,
     "metadata": {},
     "output_type": "execute_result"
    }
   ],
   "source": [
    "argv['params']"
   ]
  },
  {
   "cell_type": "code",
   "execution_count": null,
   "id": "09e7338d",
   "metadata": {},
   "outputs": [],
   "source": [
    "exec_id = argv['params'].get('exec_id', 0)\n",
    "files = argv['params'].get('files', [])\n",
    "dates = argv['params'].get('dates', [])\n",
    "start_time = argv['params'].get('start_time')\n",
    "end_time = argv['params'].get('end_time')\n",
    "day = argv['params'].get('day')\n",
    "\n",
    "period = argv['params'].get('period', 'am')\n"
   ]
  },
  {
   "cell_type": "code",
   "execution_count": 7,
   "id": "7c45a578",
   "metadata": {},
   "outputs": [],
   "source": [
    "DAY_DICT = {'monday': 0, 'tuesday': 1, 'wednesday': 2, 'thursday': 3, 'friday': 4, 'saturday': 5, 'sunday': 6}"
   ]
  },
  {
   "cell_type": "code",
   "execution_count": 8,
   "id": "f2f2b9a2",
   "metadata": {},
   "outputs": [],
   "source": [
    "selected_day = DAY_DICT[day]\n",
    "time_range = [start_time, end_time]"
   ]
  },
  {
   "cell_type": "code",
   "execution_count": 9,
   "id": "c5962ebd",
   "metadata": {},
   "outputs": [],
   "source": [
    "paths = []\n",
    "for file in files:\n",
    "\tif file.startswith('http'):\n",
    "\t\tpaths.append(file)\n",
    "\telse:\n",
    "\t\tpaths.append(os.path.join(input_folder, file))\n"
   ]
  },
  {
   "cell_type": "markdown",
   "id": "28f1894b",
   "metadata": {},
   "source": [
    "# import"
   ]
  },
  {
   "cell_type": "code",
   "execution_count": 10,
   "id": "498147d5",
   "metadata": {},
   "outputs": [
    {
     "name": "stdout",
     "output_type": "stream",
     "text": [
      "Importing ../scenarios/test/inputs/stl.zip\n"
     ]
    }
   ],
   "source": [
    "feeds = []\n",
    "for path in paths:\n",
    "\tprint('Importing {f}'.format(f=path))\n",
    "\tfeeds.append(importer.GtfsImporter(path=path, dist_units='m'))"
   ]
  },
  {
   "cell_type": "code",
   "execution_count": null,
   "id": "54a304ed",
   "metadata": {},
   "outputs": [],
   "source": []
  },
  {
   "cell_type": "markdown",
   "id": "6dd9a5a6",
   "metadata": {},
   "source": [
    "# 1) filling missing values"
   ]
  },
  {
   "cell_type": "code",
   "execution_count": 11,
   "id": "474ee6cc",
   "metadata": {},
   "outputs": [
    {
     "name": "stdout",
     "output_type": "stream",
     "text": [
      "cleaning  stl.zip\n",
      "parent_station missing in stops. set to NaN in stl.zip\n"
     ]
    }
   ],
   "source": [
    "# 1) filling missing values\n",
    "for i in range(len(feeds)):\n",
    "\tprint('cleaning ', files[i])\n",
    "\tif 'agency_id' not in feeds[i].agency:\n",
    "\t\tprint(f'set agency_id to agency_name in {files[i]}')\n",
    "\t\tfeeds[i].agency['agency_id'] = feeds[i].agency['agency_name']\n",
    "\n",
    "\tif 'agency_id' not in feeds[i].routes:\n",
    "\t\tprint(f'add agency_id to routes in {files[i]}')\n",
    "\t\tfeeds[i].routes['agency_id'] = feeds[i].agency['agency_id'].values[0]\n",
    "\n",
    "\tif 'pickup_type' not in feeds[i].stop_times:\n",
    "\t\tprint(f'pickup_type missing in stop_times. set to 0 in {files[i]}')\n",
    "\t\tfeeds[i].stop_times['pickup_type'] = 0\n",
    "\n",
    "\tif 'drop_off_type' not in feeds[i].stop_times:\n",
    "\t\tprint(f'drop_off_type missing in stop_times. set to 0 in {files[i]}')\n",
    "\t\tfeeds[i].stop_times['drop_off_type'] = 0\n",
    "\n",
    "\tif 'parent_station' not in feeds[i].stops:\n",
    "\t\tprint(f'parent_station missing in stops. set to NaN in {files[i]}')\n",
    "\t\tfeeds[i].stops['parent_station'] = np.nan\n",
    "\tif 'stop_code' not in feeds[i].stops:\n",
    "\t\tprint(f'stop_code missing in stops. set to NaN in {files[i]}')\n",
    "\t\tfeeds[i].stops['stop_code'] = np.nan\n",
    "\n",
    "\tfeeds[i].stop_times['pickup_type'].fillna(0, inplace=True)\n",
    "\tfeeds[i].stop_times['drop_off_type'].fillna(0, inplace=True)\n",
    "\tfeeds[i].stop_times['arrival_time'] = feeds[i].stop_times['departure_time']"
   ]
  },
  {
   "cell_type": "code",
   "execution_count": null,
   "id": "1003ce34",
   "metadata": {},
   "outputs": [],
   "source": []
  },
  {
   "cell_type": "markdown",
   "id": "1b7e9b6e",
   "metadata": {},
   "source": [
    "# get dates if day is used"
   ]
  },
  {
   "cell_type": "code",
   "execution_count": 12,
   "id": "95dd4b7a",
   "metadata": {},
   "outputs": [],
   "source": [
    "# if dates is not provided as inputs. (we have a day)\n",
    "# get it from first dates of each GTFS\n",
    "if len(dates) == 0:\n",
    "\tfor feed in feeds:\n",
    "\t\ttry:\n",
    "\t\t\tmin_date = feed.calendar['start_date'].unique().min()\n",
    "\t\t\tmax_date = feed.calendar['end_date'].unique().max()\n",
    "\t\texcept:\n",
    "\t\t\tmin_date = feed.calendar_dates['date'].unique().min()\n",
    "\t\t\tmax_date = feed.calendar_dates['date'].unique().max()\n",
    "\n",
    "\t\t# get date range\n",
    "\t\ts = pd.date_range(min_date, max_date, freq='D').to_series()\n",
    "\t\ttry:\n",
    "\t\t\t# get dayofweek selected and take first one\n",
    "\t\t\ts = s[s.dt.dayofweek == selected_day][0]\n",
    "\t\t\t# format  ex: ['20231011'] and append\n",
    "\t\t\tdates.append(f'{s.year}{str(s.month).zfill(2)}{str(s.day).zfill(2)}')\n",
    "\t\texcept:\n",
    "\t\t\tprint('date not available. use', min_date)\n",
    "\t\t\tdates.append(min_date)"
   ]
  },
  {
   "cell_type": "markdown",
   "id": "fcbc6a5b",
   "metadata": {},
   "source": [
    "# 2) restric feed to date"
   ]
  },
  {
   "cell_type": "code",
   "execution_count": 144,
   "id": "b1559477",
   "metadata": {},
   "outputs": [
    {
     "name": "stdout",
     "output_type": "stream",
     "text": [
      "restrict feed\n"
     ]
    }
   ],
   "source": [
    "feeds_t = []\n",
    "print('restrict feed')\n",
    "for i, feed in enumerate(feeds):\n",
    "\tfeed_t = feed.restrict(dates=[dates[i]], time_range=time_range)\n",
    "\tif len(feed_t.trips) > 0:\n",
    "\t\tfeeds_t.append(feed_t)"
   ]
  },
  {
   "cell_type": "code",
   "execution_count": null,
   "id": "f415f4c5",
   "metadata": {},
   "outputs": [],
   "source": []
  },
  {
   "cell_type": "markdown",
   "id": "7294e8fb",
   "metadata": {},
   "source": [
    "# 3) add shape_dist_traveled to shapes and stop_times"
   ]
  },
  {
   "cell_type": "code",
   "execution_count": 145,
   "id": "0fd61379",
   "metadata": {},
   "outputs": [
    {
     "name": "stdout",
     "output_type": "stream",
     "text": [
      "add shape_dist_traveled to shapes\n",
      "add shape_dist_traveled to stop_times\n"
     ]
    }
   ],
   "source": [
    "print('add shape_dist_traveled to shapes')\n",
    "for feed in feeds_t:\n",
    "\tif feed.shapes is None:\n",
    "\t\tprint('no shapes in gtfs')\n",
    "\t\tcontinue\n",
    "\telif 'shape_dist_traveled' not in feed.shapes.columns:\n",
    "\t\tfeed.append_dist_to_shapes()\n",
    "\telif any(feed.shapes['shape_dist_traveled'].isnull()):\n",
    "\t\tfeed.append_dist_to_shapes()\n",
    "\n",
    "print('add shape_dist_traveled to stop_times')\n",
    "for feed in feeds_t:\n",
    "\tif feed.shapes is None:\n",
    "\t\tprint('no shapes in gtfs cannot add to stop_times')\n",
    "\t\tcontinue\n",
    "\telif 'shape_dist_traveled' not in feed.stop_times.columns:\n",
    "\t\tfeed.append_dist_to_stop_times_fast()\n",
    "\telse:\n",
    "\t\tnan_sequence = feed.stop_times[feed.stop_times['shape_dist_traveled'].isnull()]['stop_sequence'].unique()\n",
    "\t\t# if there but all nan are at seq=1. just fill wwith 0.\n",
    "\t\tif all(seq == 1 for seq in nan_sequence):\n",
    "\t\t\tfeed.stop_times['shape_dist_traveled'] = feed.stop_times['shape_dist_traveled'].fillna(0)\n",
    "\t\telse:\n",
    "\t\t\tfeed.append_dist_to_stop_times_fast()\n",
    "\n",
    "\tif feed.stop_times['shape_dist_traveled'].max() < 100:\n",
    "\t\tprint(f'convert to meters')\n",
    "\t\tfeed.dist_units = 'km'\n",
    "\t\tfeed = gtk.convert_dist(feed, new_dist_units='m')"
   ]
  },
  {
   "cell_type": "markdown",
   "id": "b1ded33d",
   "metadata": {},
   "source": [
    "# 4) build links and nodes."
   ]
  },
  {
   "cell_type": "code",
   "execution_count": 146,
   "id": "e22c7f63",
   "metadata": {},
   "outputs": [
    {
     "name": "stdout",
     "output_type": "stream",
     "text": [
      "Building links and nodes  stl.zip\n"
     ]
    }
   ],
   "source": [
    "feeds_frequencies = []\n",
    "for i in range(len(feeds_t)):\n",
    "\tprint('Building links and nodes ', files[i])\n",
    "\tfeed_s = feeds_t[i].copy()\n",
    "\tfeed_s.group_services()\n",
    "\n",
    "\tfeed_s.build_stop_clusters(distance_threshold=50)\n",
    "\tfeed_s.build_patterns(on='cluster_id')\n",
    "\n",
    "\tfeed_frequencies = feed_s.convert_to_frequencies(time_range=time_range)\n",
    "\tshapes = feed_frequencies.shapes is not None\n",
    "\tfeed_frequencies.build_links_and_nodes(\n",
    "\t\tlog=False,\n",
    "\t\tshape_dist_traveled=shapes,\n",
    "\t\tfrom_shape=shapes,\n",
    "\t\tstick_nodes_on_links=shapes,\n",
    "\t\tkeep_origin_columns=['departure_time', 'pickup_type'],\n",
    "\t\tkeep_destination_columns=['arrival_time', 'drop_off_type'],\n",
    "\t\tnum_cores=num_cores,\n",
    "\t)\n",
    "\tfeeds_frequencies.append(feed_frequencies)"
   ]
  },
  {
   "cell_type": "code",
   "execution_count": null,
   "id": "13b6564b",
   "metadata": {},
   "outputs": [],
   "source": []
  },
  {
   "cell_type": "markdown",
   "id": "8048c5c8",
   "metadata": {},
   "source": [
    "# 5) rename route_type."
   ]
  },
  {
   "cell_type": "code",
   "execution_count": 147,
   "id": "b0290990",
   "metadata": {},
   "outputs": [],
   "source": [
    "with open('route_type.json') as file:\n",
    "\tmapping = json.load(file)\n",
    "\tmapping = {int(key): item for key, item in mapping.items()}\n",
    "\n",
    "retire = ['taxi']\n",
    "for feed_frequencies in feeds_frequencies:\n",
    "\tfeed_frequencies.links['route_type'] = feed_frequencies.links['route_type'].apply(lambda t: mapping.get(t, np.nan))\n",
    "\t# assert not any(feed_frequencies.links['route_type'].isna())\n",
    "\tfeed_frequencies.links = feed_frequencies.links[~feed_frequencies.links['route_type'].isin(retire)]\n"
   ]
  },
  {
   "cell_type": "code",
   "execution_count": 148,
   "id": "6f4144dc",
   "metadata": {},
   "outputs": [],
   "source": [
    "for feed_frequencies in feeds_frequencies:\n",
    "\tfeed_frequencies.links.loc[feed_frequencies.links['time'] == 0, 'time'] = 1.0"
   ]
  },
  {
   "cell_type": "code",
   "execution_count": null,
   "id": "4030ce30",
   "metadata": {},
   "outputs": [],
   "source": []
  },
  {
   "cell_type": "markdown",
   "id": "57ae0050",
   "metadata": {},
   "source": [
    "# finish model"
   ]
  },
  {
   "cell_type": "code",
   "execution_count": 149,
   "id": "942f0cc1",
   "metadata": {},
   "outputs": [],
   "source": [
    "sm = stepmodel.StepModel(epsg=4326, coordinates_unit='meter')\n",
    "\n",
    "links_concat = []\n",
    "nodes_concat = []\n",
    "for feed_frequencies in feeds_frequencies:\n",
    "\tlinks_concat.append(feed_frequencies.links.to_crs(4326))\n",
    "\tnodes_concat.append(feed_frequencies.nodes.to_crs(4326))\n",
    "\n",
    "# nothing to export. export empty geojson\n",
    "if len(links_concat) == 0:\n",
    "\tlinks = gpd.GeoDataFrame(columns=['feature'], geometry='feature', crs=4326)\n",
    "\tnodes = gpd.GeoDataFrame(columns=['feature'], geometry='feature', crs=4326)\n",
    "\tlinks.to_file(os.path.join(output_folder, 'links.geojson'), driver='GeoJSON')\n",
    "\tnodes.to_file(os.path.join(output_folder, 'nodes.geojson'), driver='GeoJSON')\n",
    "\tend_of_notebook"
   ]
  },
  {
   "cell_type": "code",
   "execution_count": null,
   "id": "00c687f8",
   "metadata": {},
   "outputs": [
    {
     "name": "stdout",
     "output_type": "stream",
     "text": [
      "Saving on S3\n"
     ]
    }
   ],
   "source": [
    "columns = [\n",
    "\t'trip_id',\n",
    "\t'route_id',\n",
    "\t'agency_id',\n",
    "\t'direction_id',\n",
    "\t'a',\n",
    "\t'b',\n",
    "\t'shape_dist_traveled',\n",
    "\t'link_sequence',\n",
    "\t'time',\n",
    "\t'headway',\n",
    "\t'pickup_type',\n",
    "\t'drop_off_type',\n",
    "\t'route_short_name',\n",
    "\t'route_type',\n",
    "\t'route_color',\n",
    "\t'geometry',\n",
    "]\n",
    "\n",
    "\n",
    "sm.links = pd.concat(links_concat)\n",
    "for col in columns:\n",
    "\tif col not in sm.links.columns:\n",
    "\t\tsm.links[col] = np.nan\n",
    "\n",
    "sm.links = sm.links[columns]\n",
    "sm.nodes = pd.concat(nodes_concat)[['stop_id', 'stop_name', 'stop_code', 'geometry']]\n",
    "\n",
    "sm.nodes = sm.nodes.reset_index(drop=True).sort_index()\n",
    "sm.links = sm.links.reset_index(drop=True).sort_index()\n",
    "\n",
    "sm.nodes.loc[sm.nodes['stop_code'].isna(), 'stop_code'] = sm.nodes.loc[sm.nodes['stop_code'].isna(), 'stop_id']\n",
    "sm.nodes.drop_duplicates(subset=['stop_id'], inplace=True)\n",
    "\n",
    "sm.links['trip_id'] = sm.links['agency_id'].astype(str) + '_' + sm.links['trip_id'].astype(str)\n",
    "sm.links['route_id'] = sm.links['agency_id'].astype(str) + '_' + sm.links['route_id'].astype(str)\n",
    "\n",
    "sm.links = sm.links.sort_values(['route_type', 'trip_id']).reset_index(drop=True)\n",
    "\n",
    "dnodes = ('node_' + sm.nodes.reset_index().set_index('stop_id')['index'].astype(str)).to_dict()\n",
    "sm.nodes.index = 'node_' + sm.nodes.index.astype(str)\n",
    "\n",
    "sm.links.index = 'link_' + sm.links.index.astype(str)\n",
    "\n",
    "sm.links['a'] = sm.links['a'].apply(lambda a: dnodes.get(a))\n",
    "sm.links['b'] = sm.links['b'].apply(lambda a: dnodes.get(a))\n",
    "\n",
    "sm.links.drop_duplicates(subset=['trip_id', 'link_sequence'], inplace=True)\n",
    "\n",
    "# Tag route with only one trip\n",
    "# time_slot = np.diff([hhmmss_to_seconds_since_midnight(time) for time in time_range])[0]\n",
    "# sm.links.loc[(time_slot/sm.links['headway']) < 2.0, 'headway'] = np.nan\n",
    "\n",
    "sm.links = sm.links.to_crs(4326)\n",
    "sm.nodes = sm.nodes.to_crs(4326)\n",
    "\n",
    "# add speed, add length.\n",
    "epsg = importer.get_epsg(sm.nodes.iloc[0]['geometry'].y, sm.nodes.iloc[0]['geometry'].x)\n",
    "sm.links['length'] = sm.links.to_crs(epsg).length\n",
    "sm.links['speed'] = (sm.links['length'] / sm.links['time']) * 3.6\n",
    "# regarder quetzal_transit pour voir les valeurs necessaires.\n",
    "\n",
    "print('Saving')\n",
    "sm.links.to_file(os.path.join(output_folder, 'links.geojson'), driver='GeoJSON')\n",
    "sm.nodes.to_file(os.path.join(output_folder, 'nodes.geojson'), driver='GeoJSON')\n"
   ]
  },
  {
   "cell_type": "code",
   "execution_count": 13,
   "id": "ba50a951",
   "metadata": {},
   "outputs": [
    {
     "ename": "NameError",
     "evalue": "name 'end_of_notebook' is not defined",
     "output_type": "error",
     "traceback": [
      "\u001b[0;31m---------------------------------------------------------------------------\u001b[0m",
      "\u001b[0;31mNameError\u001b[0m                                 Traceback (most recent call last)",
      "Cell \u001b[0;32mIn[13], line 1\u001b[0m\n\u001b[0;32m----> 1\u001b[0m \u001b[43mend_of_notebook\u001b[49m\n",
      "\u001b[0;31mNameError\u001b[0m: name 'end_of_notebook' is not defined"
     ]
    }
   ],
   "source": [
    "end_of_notebook"
   ]
  },
  {
   "cell_type": "code",
   "execution_count": 153,
   "id": "83f0eabd",
   "metadata": {},
   "outputs": [],
   "source": [
    "am = gpd.read_file(os.path.join(output_folder, 'links_am.geojson'))\n",
    "pm = gpd.read_file(os.path.join(output_folder, 'links_pm.geojson'))"
   ]
  },
  {
   "cell_type": "code",
   "execution_count": 157,
   "id": "8bfd8dd1",
   "metadata": {},
   "outputs": [
    {
     "data": {
      "text/plain": [
       "4797"
      ]
     },
     "execution_count": 157,
     "metadata": {},
     "output_type": "execute_result"
    }
   ],
   "source": [
    "len(am)"
   ]
  },
  {
   "cell_type": "code",
   "execution_count": 159,
   "id": "32c77199",
   "metadata": {},
   "outputs": [
    {
     "data": {
      "text/plain": [
       "4388"
      ]
     },
     "execution_count": 159,
     "metadata": {},
     "output_type": "execute_result"
    }
   ],
   "source": [
    "len(pm)"
   ]
  },
  {
   "cell_type": "code",
   "execution_count": 169,
   "id": "c1918337",
   "metadata": {},
   "outputs": [],
   "source": [
    "trips_am = am.groupby('trip_id')[['index']].agg(len)"
   ]
  },
  {
   "cell_type": "code",
   "execution_count": 170,
   "id": "b42444b5",
   "metadata": {},
   "outputs": [],
   "source": [
    "trips_pm = pm.groupby('trip_id')[['index']].agg(len)"
   ]
  },
  {
   "cell_type": "code",
   "execution_count": null,
   "id": "0e89345b",
   "metadata": {},
   "outputs": [],
   "source": [
    "test = trips_am.merge(trips_pm, left_index=True, right_index=True, how='outer')"
   ]
  },
  {
   "cell_type": "code",
   "execution_count": null,
   "id": "2290d7a2",
   "metadata": {},
   "outputs": [
    {
     "data": {
      "text/html": [
       "<div>\n",
       "<style scoped>\n",
       "    .dataframe tbody tr th:only-of-type {\n",
       "        vertical-align: middle;\n",
       "    }\n",
       "\n",
       "    .dataframe tbody tr th {\n",
       "        vertical-align: top;\n",
       "    }\n",
       "\n",
       "    .dataframe thead th {\n",
       "        text-align: right;\n",
       "    }\n",
       "</style>\n",
       "<table border=\"1\" class=\"dataframe\">\n",
       "  <thead>\n",
       "    <tr style=\"text-align: right;\">\n",
       "      <th></th>\n",
       "      <th>index_x</th>\n",
       "      <th>index_y</th>\n",
       "    </tr>\n",
       "    <tr>\n",
       "      <th>trip_id</th>\n",
       "      <th></th>\n",
       "      <th></th>\n",
       "    </tr>\n",
       "  </thead>\n",
       "  <tbody>\n",
       "    <tr>\n",
       "      <th>STL_JUIN19151S_1</th>\n",
       "      <td>41.0</td>\n",
       "      <td>NaN</td>\n",
       "    </tr>\n",
       "    <tr>\n",
       "      <th>STL_JUIN19151S_2</th>\n",
       "      <td>30.0</td>\n",
       "      <td>NaN</td>\n",
       "    </tr>\n",
       "    <tr>\n",
       "      <th>STL_JUIN1920E_1</th>\n",
       "      <td>17.0</td>\n",
       "      <td>NaN</td>\n",
       "    </tr>\n",
       "    <tr>\n",
       "      <th>STL_JUIN19252O_0</th>\n",
       "      <td>58.0</td>\n",
       "      <td>NaN</td>\n",
       "    </tr>\n",
       "    <tr>\n",
       "      <th>STL_JUIN1927N_1</th>\n",
       "      <td>38.0</td>\n",
       "      <td>NaN</td>\n",
       "    </tr>\n",
       "    <tr>\n",
       "      <th>STL_JUIN1933N_1</th>\n",
       "      <td>28.0</td>\n",
       "      <td>NaN</td>\n",
       "    </tr>\n",
       "    <tr>\n",
       "      <th>STL_JUIN19360N_0</th>\n",
       "      <td>NaN</td>\n",
       "      <td>32.0</td>\n",
       "    </tr>\n",
       "    <tr>\n",
       "      <th>STL_JUIN1936E_0</th>\n",
       "      <td>37.0</td>\n",
       "      <td>NaN</td>\n",
       "    </tr>\n",
       "    <tr>\n",
       "      <th>STL_JUIN19402O_0</th>\n",
       "      <td>57.0</td>\n",
       "      <td>NaN</td>\n",
       "    </tr>\n",
       "    <tr>\n",
       "      <th>STL_JUIN1940O_1</th>\n",
       "      <td>5.0</td>\n",
       "      <td>NaN</td>\n",
       "    </tr>\n",
       "    <tr>\n",
       "      <th>STL_JUIN1941S_0</th>\n",
       "      <td>51.0</td>\n",
       "      <td>NaN</td>\n",
       "    </tr>\n",
       "    <tr>\n",
       "      <th>STL_JUIN1942O_1</th>\n",
       "      <td>NaN</td>\n",
       "      <td>55.0</td>\n",
       "    </tr>\n",
       "    <tr>\n",
       "      <th>STL_JUIN1963N_1</th>\n",
       "      <td>35.0</td>\n",
       "      <td>NaN</td>\n",
       "    </tr>\n",
       "    <tr>\n",
       "      <th>STL_JUIN19901S_0</th>\n",
       "      <td>17.0</td>\n",
       "      <td>NaN</td>\n",
       "    </tr>\n",
       "    <tr>\n",
       "      <th>STL_JUIN19925S_0</th>\n",
       "      <td>44.0</td>\n",
       "      <td>NaN</td>\n",
       "    </tr>\n",
       "    <tr>\n",
       "      <th>STL_JUIN19942O_0</th>\n",
       "      <td>38.0</td>\n",
       "      <td>NaN</td>\n",
       "    </tr>\n",
       "  </tbody>\n",
       "</table>\n",
       "</div>"
      ],
      "text/plain": [
       "                  index_x  index_y\n",
       "trip_id                           \n",
       "STL_JUIN19151S_1     41.0      NaN\n",
       "STL_JUIN19151S_2     30.0      NaN\n",
       "STL_JUIN1920E_1      17.0      NaN\n",
       "STL_JUIN19252O_0     58.0      NaN\n",
       "STL_JUIN1927N_1      38.0      NaN\n",
       "STL_JUIN1933N_1      28.0      NaN\n",
       "STL_JUIN19360N_0      NaN     32.0\n",
       "STL_JUIN1936E_0      37.0      NaN\n",
       "STL_JUIN19402O_0     57.0      NaN\n",
       "STL_JUIN1940O_1       5.0      NaN\n",
       "STL_JUIN1941S_0      51.0      NaN\n",
       "STL_JUIN1942O_1       NaN     55.0\n",
       "STL_JUIN1963N_1      35.0      NaN\n",
       "STL_JUIN19901S_0     17.0      NaN\n",
       "STL_JUIN19925S_0     44.0      NaN\n",
       "STL_JUIN19942O_0     38.0      NaN"
      ]
     },
     "execution_count": 182,
     "metadata": {},
     "output_type": "execute_result"
    }
   ],
   "source": [
    "test[test['index_x'] != test['index_y']]"
   ]
  },
  {
   "cell_type": "code",
   "execution_count": 183,
   "id": "bf31cf12",
   "metadata": {},
   "outputs": [
    {
     "data": {
      "text/html": [
       "<div>\n",
       "<style scoped>\n",
       "    .dataframe tbody tr th:only-of-type {\n",
       "        vertical-align: middle;\n",
       "    }\n",
       "\n",
       "    .dataframe tbody tr th {\n",
       "        vertical-align: top;\n",
       "    }\n",
       "\n",
       "    .dataframe thead th {\n",
       "        text-align: right;\n",
       "    }\n",
       "</style>\n",
       "<table border=\"1\" class=\"dataframe\">\n",
       "  <thead>\n",
       "    <tr style=\"text-align: right;\">\n",
       "      <th></th>\n",
       "      <th>index</th>\n",
       "    </tr>\n",
       "    <tr>\n",
       "      <th>trip_id</th>\n",
       "      <th></th>\n",
       "    </tr>\n",
       "  </thead>\n",
       "  <tbody>\n",
       "    <tr>\n",
       "      <th>STL_JUIN1912E_0</th>\n",
       "      <td>3</td>\n",
       "    </tr>\n",
       "    <tr>\n",
       "      <th>STL_JUIN1912O_0</th>\n",
       "      <td>9</td>\n",
       "    </tr>\n",
       "    <tr>\n",
       "      <th>STL_JUIN19144E_0</th>\n",
       "      <td>41</td>\n",
       "    </tr>\n",
       "    <tr>\n",
       "      <th>STL_JUIN19144O_0</th>\n",
       "      <td>42</td>\n",
       "    </tr>\n",
       "    <tr>\n",
       "      <th>STL_JUIN19151N_0</th>\n",
       "      <td>53</td>\n",
       "    </tr>\n",
       "    <tr>\n",
       "      <th>...</th>\n",
       "      <td>...</td>\n",
       "    </tr>\n",
       "    <tr>\n",
       "      <th>STL_JUIN19902S_0</th>\n",
       "      <td>23</td>\n",
       "    </tr>\n",
       "    <tr>\n",
       "      <th>STL_JUIN19903N_0</th>\n",
       "      <td>55</td>\n",
       "    </tr>\n",
       "    <tr>\n",
       "      <th>STL_JUIN19903S_0</th>\n",
       "      <td>56</td>\n",
       "    </tr>\n",
       "    <tr>\n",
       "      <th>STL_JUIN19925S_0</th>\n",
       "      <td>44</td>\n",
       "    </tr>\n",
       "    <tr>\n",
       "      <th>STL_JUIN19942O_0</th>\n",
       "      <td>38</td>\n",
       "    </tr>\n",
       "  </tbody>\n",
       "</table>\n",
       "<p>87 rows × 1 columns</p>\n",
       "</div>"
      ],
      "text/plain": [
       "                  index\n",
       "trip_id                \n",
       "STL_JUIN1912E_0       3\n",
       "STL_JUIN1912O_0       9\n",
       "STL_JUIN19144E_0     41\n",
       "STL_JUIN19144O_0     42\n",
       "STL_JUIN19151N_0     53\n",
       "...                 ...\n",
       "STL_JUIN19902S_0     23\n",
       "STL_JUIN19903N_0     55\n",
       "STL_JUIN19903S_0     56\n",
       "STL_JUIN19925S_0     44\n",
       "STL_JUIN19942O_0     38\n",
       "\n",
       "[87 rows x 1 columns]"
      ]
     },
     "execution_count": 183,
     "metadata": {},
     "output_type": "execute_result"
    }
   ],
   "source": [
    "trips_am"
   ]
  },
  {
   "cell_type": "code",
   "execution_count": null,
   "id": "9c8425f1",
   "metadata": {},
   "outputs": [],
   "source": []
  }
 ],
 "metadata": {
  "kernelspec": {
   "display_name": "quetzal-CjBfBe3R-py3.12",
   "language": "python",
   "name": "python3"
  },
  "language_info": {
   "codemirror_mode": {
    "name": "ipython",
    "version": 3
   },
   "file_extension": ".py",
   "mimetype": "text/x-python",
   "name": "python",
   "nbconvert_exporter": "python",
   "pygments_lexer": "ipython3",
   "version": "3.12.2"
  }
 },
 "nbformat": 4,
 "nbformat_minor": 5
}
