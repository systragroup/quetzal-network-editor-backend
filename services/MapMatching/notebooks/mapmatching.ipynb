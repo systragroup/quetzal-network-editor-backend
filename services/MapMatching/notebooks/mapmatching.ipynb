{
 "cells": [
  {
   "cell_type": "code",
   "execution_count": 1,
   "id": "ea61e564",
   "metadata": {},
   "outputs": [],
   "source": [
    "import sys\n",
    "import json\n",
    "params = {'exec_id':0,'exclusions':[]}\n",
    "default = {'scenario': 'test', 'training_folder':'../..', 'params':params} # Default execution parameters\n",
    "manual, argv = (True, default) if 'ipykernel' in sys.argv[0] else (False, dict(default, **json.loads(sys.argv[1])))"
   ]
  },
  {
   "cell_type": "code",
   "execution_count": 2,
   "id": "36b66424",
   "metadata": {},
   "outputs": [],
   "source": [
    "# Add path to quetzal\n",
    "sys.path.insert(0,'../../../../quetzal/')\n",
    "from quetzal.model import stepmodel\n",
    "import os\n",
    "import numba as nb\n",
    "on_lambda = bool(os.environ.get('AWS_EXECUTION_ENV'))\n",
    "num_cores = nb.config.NUMBA_NUM_THREADS"
   ]
  },
  {
   "cell_type": "code",
   "execution_count": 3,
   "id": "3b016852",
   "metadata": {},
   "outputs": [],
   "source": [
    "scenario = argv['scenario']\n",
    "training_folder = argv['training_folder']\n",
    "# if local. add the path to the scenario scenarios/<scenario>/\n",
    "if on_lambda:\n",
    "    input_folder = training_folder\n",
    "else:\n",
    "    input_folder = f'../scenarios/{scenario}/'\n",
    "parallel_folder = os.path.join(input_folder,'parallel')\n",
    "if not os.path.exists(parallel_folder):\n",
    "    os.makedirs(parallel_folder)"
   ]
  },
  {
   "cell_type": "code",
   "execution_count": 4,
   "id": "a4d5f4eb",
   "metadata": {},
   "outputs": [
    {
     "data": {
      "text/plain": [
       "{'exec_id': 0, 'exclusions': []}"
      ]
     },
     "execution_count": 4,
     "metadata": {},
     "output_type": "execute_result"
    }
   ],
   "source": [
    "argv['params']"
   ]
  },
  {
   "cell_type": "code",
   "execution_count": null,
   "id": "bb136465",
   "metadata": {},
   "outputs": [],
   "source": []
  },
  {
   "cell_type": "code",
   "execution_count": 14,
   "id": "09e7338d",
   "metadata": {},
   "outputs": [],
   "source": [
    "exec_id = argv['params'].get('exec_id',0)\n",
    "exclusions = argv['params'].get('exclusions',[])\n",
    "kwargs = {'SIGMA': argv['params'].get('SIGMA',4.07),\n",
    "              'BETA': argv['params'].get('BETA',3),\n",
    "              'POWER': argv['params'].get('POWER',2),\n",
    "              'DIFF': argv['params'].get('DIFF',True)\n",
    "              }"
   ]
  },
  {
   "cell_type": "code",
   "execution_count": null,
   "id": "7c45a578",
   "metadata": {},
   "outputs": [],
   "source": []
  },
  {
   "cell_type": "code",
   "execution_count": 7,
   "id": "12c7569f",
   "metadata": {},
   "outputs": [],
   "source": [
    "import geopandas as gpd\n",
    "from quetzal.engine.add_network_mapmatching import duplicate_nodes\n",
    "from shapely.geometry import LineString\n",
    "from quetzal.model import stepmodel\n",
    "from quetzal.io.gtfs_reader.importer import get_epsg\n",
    "from quetzal.io.quenedi import split_quenedi_rlinks"
   ]
  },
  {
   "cell_type": "code",
   "execution_count": 8,
   "id": "f00ae675",
   "metadata": {},
   "outputs": [],
   "source": [
    "links = gpd.read_file(os.path.join(parallel_folder, f'links_{exec_id}.geojson'))\n",
    "if 'index' in links.columns:\n",
    "    links.set_index('index',inplace=True)\n",
    "nodes = gpd.read_file(os.path.join(parallel_folder, f'nodes_{exec_id}.geojson'),engine='pyogrio')\n",
    "if 'index' in nodes.columns:\n",
    "    nodes.set_index('index',inplace=True)"
   ]
  },
  {
   "cell_type": "code",
   "execution_count": 9,
   "id": "ad49229f",
   "metadata": {},
   "outputs": [],
   "source": [
    "road_links = gpd.read_file(os.path.join(input_folder,'road_links.geojson'))\n",
    "road_links.set_index('index',inplace=True)\n",
    "road_nodes = gpd.read_file(os.path.join(input_folder,'road_nodes.geojson'))\n",
    "road_nodes.set_index('index',inplace=True)"
   ]
  },
  {
   "cell_type": "code",
   "execution_count": 10,
   "id": "63d26af2",
   "metadata": {},
   "outputs": [
    {
     "name": "stdout",
     "output_type": "stream",
     "text": [
      "split rlinks to oneways\n"
     ]
    }
   ],
   "source": [
    "print('split rlinks to oneways')\n",
    "road_links = split_quenedi_rlinks(road_links)\n",
    "\n",
    "\n",
    "# if already mapmatched. remove road_links_list (will be redone here)\n",
    "if 'road_link_list' in  links.columns:\n",
    "    print('remove road_links_list')\n",
    "    links = links.drop(columns = ['road_link_list'])"
   ]
  },
  {
   "cell_type": "code",
   "execution_count": 11,
   "id": "ab729720",
   "metadata": {},
   "outputs": [
    {
     "name": "stderr",
     "output_type": "stream",
     "text": [
      "Reprojecting model from epsg 4326 to epsg 32618: 100%|█| 10/10 [00:00<00:00, 78.\n"
     ]
    }
   ],
   "source": [
    "sm = stepmodel.StepModel(epsg=4326)\n",
    "sm.links = links\n",
    "sm.nodes = nodes\n",
    "sm.road_links = road_links\n",
    "sm.road_nodes = road_nodes\n",
    "\n",
    "centroid = [*LineString(sm.nodes.centroid.values).centroid.coords][0]\n",
    "crs = get_epsg(centroid[1],centroid[0])\n",
    "\n",
    "sm = sm.change_epsg(crs,coordinates_unit='meter')"
   ]
  },
  {
   "cell_type": "code",
   "execution_count": 15,
   "id": "c5724e3c",
   "metadata": {},
   "outputs": [
    {
     "name": "stdout",
     "output_type": "stream",
     "text": [
      "overwrite nodes: nodes shares between different trips will be duplicated and rename\n",
      "0 / 26\n",
      "0 / 26\n",
      "0 / 26\n",
      "0 / 26\n",
      "5 / 26\n",
      "0 / 26\n",
      "5 / 26\n",
      "0 / 26\n",
      "0 / 26\n",
      "10 / 26\n",
      "10 / 26\n",
      "5 / 26\n",
      "5 / 26\n",
      "5 / 26\n",
      "0 / 26\n",
      "0 / 4\n",
      "5 / 26\n",
      "15 / 26\n",
      "10 / 26\n",
      "5 / 26\n",
      "15 / 26\n",
      "10 / 26\n",
      "10 / 26\n",
      "5 / 26\n",
      "4 / 4\n",
      "10 / 26\n",
      "20 / 26\n",
      "15 / 26\n",
      "20 / 26\n",
      "15 / 26\n",
      "10 / 26\n",
      "10 / 26\n",
      "15 / 26\n",
      "20 / 26\n",
      "25 / 26\n",
      "15 / 26\n",
      "20 / 26\n",
      "26 / 26\n",
      "25 / 2615 / 26\n",
      "\n",
      "26 / 26\n",
      "20 / 26\n",
      "15 / 26\n",
      "25 / 26\n",
      "26 / 26\n",
      "25 / 26\n",
      "26 / 26\n",
      "20 / 26\n",
      "20 / 26\n",
      "25 / 26\n",
      "26 / 26\n",
      "20 / 26\n",
      "25 / 26\n",
      "26 / 26\n",
      "25 / 26\n",
      "25 / 26\n",
      "26 / 26\n",
      "26 / 26\n"
     ]
    }
   ],
   "source": [
    "sm.preparation_map_matching(sequence='link_sequence',\n",
    "                            by='trip_id',\n",
    "                            routing=True,\n",
    "                            n_neighbors_centroid=100,\n",
    "                            radius_search=500,\n",
    "                            on_centroid=False,\n",
    "                            nearest_method='radius',\n",
    "                            n_neighbors=20,\n",
    "                            distance_max=3000,\n",
    "                            overwrite_geom=True,\n",
    "                            overwrite_nodes=True,\n",
    "                            num_cores=num_cores,\n",
    "                            **kwargs)"
   ]
  },
  {
   "cell_type": "code",
   "execution_count": 16,
   "id": "08fd7173",
   "metadata": {},
   "outputs": [],
   "source": [
    "sm.links['length'] = sm.links['geometry'].apply(lambda g: g.length)\n",
    "if 'speed' in sm.links.columns:\n",
    "    sm.links['time'] = sm.links['length']/sm.links['speed'] * 3.6\n",
    "\n",
    "sm.nodes = sm.nodes.to_crs(4326)\n",
    "sm.links = sm.links.to_crs(4326)\n",
    "\n",
    "sm.links = sm.links.drop(columns=['road_a','road_b','offset_b','offset_a','road_node_list'])\n",
    "sm.links['road_link_list'] = sm.links['road_link_list'].fillna('[]')\n",
    "sm.links['road_link_list'] = sm.links['road_link_list'].astype(str)\n",
    "\n",
    "sm.links.to_file(os.path.join(parallel_folder, f'links_{exec_id}.geojson'), driver='GeoJSON')\n",
    "sm.nodes.to_file(os.path.join(parallel_folder, f'nodes_{exec_id}.geojson'), driver='GeoJSON')"
   ]
  }
 ],
 "metadata": {
  "kernelspec": {
   "display_name": "quetzal_312",
   "language": "python",
   "name": "quetzal_312"
  },
  "language_info": {
   "codemirror_mode": {
    "name": "ipython",
    "version": 3
   },
   "file_extension": ".py",
   "mimetype": "text/x-python",
   "name": "python",
   "nbconvert_exporter": "python",
   "pygments_lexer": "ipython3",
   "version": "3.12.2"
  }
 },
 "nbformat": 4,
 "nbformat_minor": 5
}
