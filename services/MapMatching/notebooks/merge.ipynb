{
 "cells": [
  {
   "cell_type": "code",
   "execution_count": 1,
   "id": "ea61e564",
   "metadata": {},
   "outputs": [],
   "source": [
    "import sys\n",
    "import json\n",
    "params = {'ptMetrics':True}\n",
    "default = {'scenario': 'test', 'training_folder':'../..', 'params':params} # Default execution parameters\n",
    "manual, argv = (True, default) if 'ipykernel' in sys.argv[0] else (False, dict(default, **json.loads(sys.argv[1])))"
   ]
  },
  {
   "cell_type": "code",
   "execution_count": 2,
   "id": "36b66424",
   "metadata": {},
   "outputs": [],
   "source": [
    "# Add path to quetzal\n",
    "sys.path.insert(0,'../../../../quetzal/')\n",
    "from quetzal.model import stepmodel\n",
    "import os\n",
    "import numba as nb\n",
    "on_lambda = bool(os.environ.get('AWS_EXECUTION_ENV'))\n",
    "num_cores = nb.config.NUMBA_NUM_THREADS"
   ]
  },
  {
   "cell_type": "code",
   "execution_count": 3,
   "id": "3b016852",
   "metadata": {},
   "outputs": [],
   "source": [
    "scenario = argv['scenario']\n",
    "training_folder = argv['training_folder']\n",
    "# if local. add the path to the scenario scenarios/<scenario>/\n",
    "if on_lambda:\n",
    "    input_folder = training_folder\n",
    "else:\n",
    "    input_folder = f'../scenarios/{scenario}/'\n",
    "parallel_folder = os.path.join(input_folder,'parallel')\n",
    "if not os.path.exists(parallel_folder):\n",
    "    os.makedirs(parallel_folder)"
   ]
  },
  {
   "cell_type": "code",
   "execution_count": 4,
   "id": "a4d5f4eb",
   "metadata": {},
   "outputs": [],
   "source": [
    "def add_metrics_to_rlinks(links, rlinks):\n",
    "    # add metrics to road links\n",
    "\n",
    "    from quetzal.io.quenedi import split_quenedi_rlinks, merge_quenedi_rlinks\n",
    "\n",
    "    rlinks = split_quenedi_rlinks(rlinks)\n",
    "\n",
    "    df = links[['trip_id','route_id','headway','road_link_list']].explode('road_link_list')\n",
    "    df['frequency'] = 1/(df['headway']/3600)\n",
    "\n",
    "    agg_dict = {'trip_id':'nunique','route_id':'nunique','headway':lambda x: 1 / sum(1/x),'frequency':'sum'}\n",
    "    df = df.groupby('road_link_list').agg(agg_dict)\n",
    "\n",
    "    rename_dict = {'trip_id':'trip_id_count',\n",
    "                'route_id':'route_id_count',\n",
    "                'headway':'combine_headway (secs)',\n",
    "                'frequency':'combine_frequency (veh/h)'}\n",
    "    df = df.rename(columns=rename_dict)\n",
    "    new_columns = df.columns\n",
    "    new_columns = [col for col in new_columns if col not in rlinks.columns]\n",
    "    rlinks = rlinks.merge(df,left_index=True,right_index=True,how='left')\n",
    "    #cols_to_fill = [col for col in df.columns if col != 'combine_headway']\n",
    "    #rlinks[cols_to_fill] = rlinks[cols_to_fill].fillna(0)\n",
    "\n",
    "    rlinks = merge_quenedi_rlinks(rlinks,new_cols=new_columns)\n",
    "    return rlinks"
   ]
  },
  {
   "cell_type": "code",
   "execution_count": null,
   "id": "bb136465",
   "metadata": {},
   "outputs": [],
   "source": []
  },
  {
   "cell_type": "code",
   "execution_count": 5,
   "id": "09e7338d",
   "metadata": {},
   "outputs": [],
   "source": [
    "add_pt_metrics = argv['params'].get('ptMetrics',True)"
   ]
  },
  {
   "cell_type": "code",
   "execution_count": null,
   "id": "7c45a578",
   "metadata": {},
   "outputs": [],
   "source": []
  },
  {
   "cell_type": "code",
   "execution_count": 6,
   "id": "12c7569f",
   "metadata": {},
   "outputs": [],
   "source": [
    "import geopandas as gpd\n",
    "import pandas as pd\n",
    "from quetzal.engine.add_network_mapmatching import duplicate_nodes\n",
    "from quetzal.io.quenedi import read_geojson"
   ]
  },
  {
   "cell_type": "code",
   "execution_count": 14,
   "id": "f00ae675",
   "metadata": {},
   "outputs": [
    {
     "name": "stderr",
     "output_type": "stream",
     "text": [
      "Skipping field road_link_list: unsupported OGR type: 5\n"
     ]
    }
   ],
   "source": [
    "from syspy.spatial.utils import get_acf_distance\n",
    "\n",
    "links_concat = []; nodes_concat = []\n",
    "for name in os.listdir(parallel_folder):\n",
    "    if name.startswith('links') and name.endswith('.geojson'):\n",
    "        links_concat.append( read_geojson(os.path.join(parallel_folder, name)) )\n",
    "    elif name.startswith('nodes') and name.endswith('.geojson'):\n",
    "        nodes_concat.append( read_geojson(os.path.join(parallel_folder, name)) )\n",
    "\n",
    "links = pd.concat(links_concat)\n",
    "nodes = pd.concat(nodes_concat)"
   ]
  },
  {
   "cell_type": "code",
   "execution_count": 11,
   "id": "ad49229f",
   "metadata": {},
   "outputs": [],
   "source": [
    "if add_pt_metrics:\n",
    "    road_links = gpd.read_file(os.path.join(input_folder,'road_links.geojson'), engine='pyogrio')\n",
    "    road_links.set_index('index',inplace=True)\n",
    "    road_links = add_metrics_to_rlinks(links, road_links)\n",
    "    road_links.to_file(os.path.join(input_folder,f'road_links.geojson'), driver='GeoJSON', engine='pyogrio')"
   ]
  },
  {
   "cell_type": "code",
   "execution_count": 19,
   "id": "2fd73eed",
   "metadata": {},
   "outputs": [],
   "source": [
    "links['road_link_list'] = links['road_link_list'].fillna('[]')\n",
    "links['road_link_list'] = links['road_link_list'].astype(str)\n",
    "links.to_file(os.path.join(input_folder,f'links_final.geojson'), driver='GeoJSON')\n",
    "nodes.to_file(os.path.join(input_folder,f'nodes_final.geojson'), driver='GeoJSON')\n",
    "\n",
    "\n",
    "df = links.reset_index()[['index','trip_id']].copy()\n",
    "df['acf_distance'] = links['geometry'].apply(lambda x: get_acf_distance([x.coords[0],x.coords[-1]],True))\n",
    "df['routing_distance'] = links['length']\n",
    "df['routing - acf'] = df['routing_distance']-df['acf_distance']\n",
    "if 'shape_dist_traveled' in links.columns:\n",
    "    df['shape_dist_traveled'] = links['shape_dist_traveled']\n",
    "    df['routing - sdt'] = df['routing_distance']-df['shape_dist_traveled']\n",
    "\n",
    "df2 = df.groupby('trip_id').agg(sum)\n",
    "df2['routing - acf'] = df2['routing_distance']-df2['acf_distance']\n",
    "if 'shape_dist_traveled' in df2.columns:\n",
    "    df2['routing - sdt'] = df2['routing_distance']-df2['shape_dist_traveled']\n",
    "df.to_csv(os.path.join(input_folder,'links_distances.csv'))\n",
    "df2.to_csv(os.path.join(input_folder,'trips_distances.csv'))\n",
    "\n"
   ]
  },
  {
   "cell_type": "code",
   "execution_count": null,
   "id": "c572eaba",
   "metadata": {},
   "outputs": [],
   "source": []
  }
 ],
 "metadata": {
  "kernelspec": {
   "display_name": "quetzal_312",
   "language": "python",
   "name": "quetzal_312"
  },
  "language_info": {
   "codemirror_mode": {
    "name": "ipython",
    "version": 3
   },
   "file_extension": ".py",
   "mimetype": "text/x-python",
   "name": "python",
   "nbconvert_exporter": "python",
   "pygments_lexer": "ipython3",
   "version": "3.12.2"
  }
 },
 "nbformat": 4,
 "nbformat_minor": 5
}
